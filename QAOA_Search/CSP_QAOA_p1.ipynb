{
 "cells": [
  {
   "cell_type": "code",
   "execution_count": 1,
   "metadata": {},
   "outputs": [],
   "source": [
    "from scipy.linalg import expm\n",
    "import numpy as np                                          # 导入numpy库并简写为np\n",
    "import pandas as pd\n",
    "import itertools\n",
    "from joblib import Parallel, delayed\n",
    "import seaborn as sns\n",
    "import matplotlib.pyplot as plt\n",
    "from QAOA import _Rx,_Rz,_Rzz,_Rzzz,_Rzzzz,I,_H,getBaseProb\n",
    "def I(n): #返回可占用n个比特位的I矩阵\n",
    "    return np.eye(2**n)"
   ]
  },
  {
   "cell_type": "code",
   "execution_count": 2,
   "metadata": {},
   "outputs": [
    {
     "name": "stdout",
     "output_type": "stream",
     "text": [
      "(4, 1)\n"
     ]
    },
    {
     "data": {
      "text/plain": [
       "'\\nE_max = 0\\npara_dict = {\"gamma\":0,\"beta\":0}\\nbeta_lst = np.linspace(0,2*np.pi,200)\\ngamma_lst = np.linspace(0,2*np.pi,200)\\npbar = tqdm(total=len(beta_lst)*len(gamma_lst))\\nt = np.array([1,0,0,0]).reshape(-1,1) # 初态\\nfor i,beta in enumerate(beta_lst): # 串行版本\\n    for j,gamma in enumerate(gamma_lst):\\n        #A = _Rx(0,2,beta)*_Rx(1,2,beta)*_Rz(0,2,gamma)*(_Rz(1,2,gamma))*(_Rzz(0,1,2,gamma))*(_H() + _H()) # 代表量子线路的矩阵\\n       # B = A.dot(t) # |gamma,beta>\\n       # H_C = np.kron(z,z) + np.kron(np.eye(2),z) + np.kron(z,np.eye(2)) # Hamiltonian\\n       # E = np.conjugate(np.array(B)).T.dot(H_C).dot(np.array(B))[0][0].real # 计算期望\\n        E = QaoaGetPara(gamma,beta)[0]\\n        if E > E_max:\\n            E_max = E\\n            para_dict[\"gamma\"] = gamma\\n            para_dict[\"beta\"] = beta\\n        else:\\n            pass\\n        pbar.update(1)\\n\\n'"
      ]
     },
     "execution_count": 2,
     "metadata": {},
     "output_type": "execute_result"
    }
   ],
   "source": [
    "def QaoaGetPara(gamma,beta,t = np.array([1,0,0,0]).reshape(-1,1),isOutStat = False):\n",
    "    z = np.array([[1,0],\n",
    "                    [0,-1]],dtype=np.complex128)\n",
    "    A = _Rx(0,2,beta)*_Rx(1,2,beta)*_Rz(0,2,gamma)*(_Rz(1,2,gamma))*(_Rzz(0,1,2,gamma))*(_H() + _H()) # 代表量子线路的矩阵\n",
    "    B = A.dot(t) # |gamma,beta>\n",
    "    print(B.shape)\n",
    "    if isOutStat:\n",
    "        return B\n",
    "    H_C = np.kron(z,z) + np.kron(np.eye(2),z) + np.kron(z,np.eye(2)) # Hamiltonian\n",
    "    E = np.conjugate(np.array(B)).T.dot(H_C).dot(np.array(B))[0][0].real # 计算期望\n",
    "    return (E,gamma,beta)\n",
    "t = np.array([1,0,0,0]).reshape(-1,1) # 初态\n",
    "beta_lst = np.linspace(0,2*np.pi,200)\n",
    "gamma_lst = np.linspace(0,2*np.pi,200) \n",
    "#*********** 并行版本 ******************\n",
    "table = Parallel(n_jobs=-1)(delayed(QaoaGetPara)(beta,gamma,t) for beta,gamma in itertools.product(beta_lst,gamma_lst)) #并行版本\n",
    "table = pd.DataFrame(table,columns = [\"E\",\"gamma\",\"beta\"])\n",
    "row_idx = table[\"E\"].idxmax()\n",
    "row = table.loc[row_idx,[\"gamma\", \"beta\"]] # E_max对应列\n",
    "pureState = QaoaGetPara(row[\"gamma\"],row[\"beta\"],t,True) # 返回该最优量子线路输出的纯态\n",
    "getBaseProb(pureState) # 返回每个基态的概率\n",
    "\n",
    "#*********** 串行版本 ******************\n",
    "\"\"\"\n",
    "E_max = 0\n",
    "para_dict = {\"gamma\":0,\"beta\":0}\n",
    "beta_lst = np.linspace(0,2*np.pi,200)\n",
    "gamma_lst = np.linspace(0,2*np.pi,200)\n",
    "pbar = tqdm(total=len(beta_lst)*len(gamma_lst))\n",
    "t = np.array([1,0,0,0]).reshape(-1,1) # 初态\n",
    "for i,beta in enumerate(beta_lst): # 串行版本\n",
    "    for j,gamma in enumerate(gamma_lst):\n",
    "        #A = _Rx(0,2,beta)*_Rx(1,2,beta)*_Rz(0,2,gamma)*(_Rz(1,2,gamma))*(_Rzz(0,1,2,gamma))*(_H() + _H()) # 代表量子线路的矩阵\n",
    "       # B = A.dot(t) # |gamma,beta>\n",
    "       # H_C = np.kron(z,z) + np.kron(np.eye(2),z) + np.kron(z,np.eye(2)) # Hamiltonian\n",
    "       # E = np.conjugate(np.array(B)).T.dot(H_C).dot(np.array(B))[0][0].real # 计算期望\n",
    "        E = QaoaGetPara(gamma,beta)[0]\n",
    "        if E > E_max:\n",
    "            E_max = E\n",
    "            para_dict[\"gamma\"] = gamma\n",
    "            para_dict[\"beta\"] = beta\n",
    "        else:\n",
    "            pass\n",
    "        pbar.update(1)\n",
    "\n",
    "\"\"\""
   ]
  },
  {
   "cell_type": "code",
   "execution_count": 3,
   "metadata": {},
   "outputs": [
    {
     "data": {
      "text/html": [
       "<div>\n",
       "<style scoped>\n",
       "    .dataframe tbody tr th:only-of-type {\n",
       "        vertical-align: middle;\n",
       "    }\n",
       "\n",
       "    .dataframe tbody tr th {\n",
       "        vertical-align: top;\n",
       "    }\n",
       "\n",
       "    .dataframe thead th {\n",
       "        text-align: right;\n",
       "    }\n",
       "</style>\n",
       "<table border=\"1\" class=\"dataframe\">\n",
       "  <thead>\n",
       "    <tr style=\"text-align: right;\">\n",
       "      <th></th>\n",
       "      <th>E</th>\n",
       "      <th>gamma</th>\n",
       "      <th>beta</th>\n",
       "    </tr>\n",
       "  </thead>\n",
       "  <tbody>\n",
       "    <tr>\n",
       "      <th>0</th>\n",
       "      <td>0.000000e+00</td>\n",
       "      <td>0.000000</td>\n",
       "      <td>0.000000</td>\n",
       "    </tr>\n",
       "    <tr>\n",
       "      <th>1</th>\n",
       "      <td>-1.084202e-19</td>\n",
       "      <td>0.000000</td>\n",
       "      <td>0.031574</td>\n",
       "    </tr>\n",
       "    <tr>\n",
       "      <th>2</th>\n",
       "      <td>5.551115e-17</td>\n",
       "      <td>0.000000</td>\n",
       "      <td>0.063148</td>\n",
       "    </tr>\n",
       "    <tr>\n",
       "      <th>3</th>\n",
       "      <td>5.724587e-17</td>\n",
       "      <td>0.000000</td>\n",
       "      <td>0.094721</td>\n",
       "    </tr>\n",
       "    <tr>\n",
       "      <th>4</th>\n",
       "      <td>-5.204170e-18</td>\n",
       "      <td>0.000000</td>\n",
       "      <td>0.126295</td>\n",
       "    </tr>\n",
       "    <tr>\n",
       "      <th>...</th>\n",
       "      <td>...</td>\n",
       "      <td>...</td>\n",
       "      <td>...</td>\n",
       "    </tr>\n",
       "    <tr>\n",
       "      <th>39995</th>\n",
       "      <td>-5.030698e-16</td>\n",
       "      <td>6.283185</td>\n",
       "      <td>6.156890</td>\n",
       "    </tr>\n",
       "    <tr>\n",
       "      <th>39996</th>\n",
       "      <td>5.811324e-17</td>\n",
       "      <td>6.283185</td>\n",
       "      <td>6.188464</td>\n",
       "    </tr>\n",
       "    <tr>\n",
       "      <th>39997</th>\n",
       "      <td>5.594483e-17</td>\n",
       "      <td>6.283185</td>\n",
       "      <td>6.220038</td>\n",
       "    </tr>\n",
       "    <tr>\n",
       "      <th>39998</th>\n",
       "      <td>3.252607e-19</td>\n",
       "      <td>6.283185</td>\n",
       "      <td>6.251612</td>\n",
       "    </tr>\n",
       "    <tr>\n",
       "      <th>39999</th>\n",
       "      <td>0.000000e+00</td>\n",
       "      <td>6.283185</td>\n",
       "      <td>6.283185</td>\n",
       "    </tr>\n",
       "  </tbody>\n",
       "</table>\n",
       "<p>40000 rows × 3 columns</p>\n",
       "</div>"
      ],
      "text/plain": [
       "                  E     gamma      beta\n",
       "0      0.000000e+00  0.000000  0.000000\n",
       "1     -1.084202e-19  0.000000  0.031574\n",
       "2      5.551115e-17  0.000000  0.063148\n",
       "3      5.724587e-17  0.000000  0.094721\n",
       "4     -5.204170e-18  0.000000  0.126295\n",
       "...             ...       ...       ...\n",
       "39995 -5.030698e-16  6.283185  6.156890\n",
       "39996  5.811324e-17  6.283185  6.188464\n",
       "39997  5.594483e-17  6.283185  6.220038\n",
       "39998  3.252607e-19  6.283185  6.251612\n",
       "39999  0.000000e+00  6.283185  6.283185\n",
       "\n",
       "[40000 rows x 3 columns]"
      ]
     },
     "execution_count": 3,
     "metadata": {},
     "output_type": "execute_result"
    }
   ],
   "source": [
    "table"
   ]
  },
  {
   "cell_type": "code",
   "execution_count": 11,
   "metadata": {},
   "outputs": [],
   "source": [
    "getBaseProb(pureState) # 返回每个基态的概率\n",
    "psi = pureState\n",
    "rho = np.outer(psi, psi.conj())"
   ]
  },
  {
   "cell_type": "code",
   "execution_count": 14,
   "metadata": {},
   "outputs": [
    {
     "data": {
      "text/plain": [
       "array([0.69440573+0.j, 0.02661554+0.j, 0.02661554+0.j, 0.2523632 +0.j])"
      ]
     },
     "execution_count": 14,
     "metadata": {},
     "output_type": "execute_result"
    }
   ],
   "source": [
    "getBaseProb(pureState) # 返回每个基态的概率\n"
   ]
  },
  {
   "cell_type": "code",
   "execution_count": 4,
   "metadata": {},
   "outputs": [],
   "source": [
    "# ------------------p = 1 template-----------------------------\n",
    "def QaoaGetPara(gamma,beta,t,isOutStat = False):\n",
    "    z = np.array([[1,0],\n",
    "                    [0,-1]],dtype=np.complex128)\n",
    "    A = _Rx(0,4,beta)*_Rx(1,4,beta)*_Rx(2,4,beta)*_Rx(3,4,beta) \\\n",
    "        *_Rz(0,4,gamma)*_Rz(1,4,gamma)*_Rz(2,4,gamma)*_Rz(3,4,gamma) \\\n",
    "        *_Rzz(0,1,4,gamma)*_Rzz(2,3,4,gamma) \\\n",
    "        *(_H() + _H() + _H() + _H()) #代表量子线路的矩阵\n",
    "    B = A.dot(t) # |gamma,beta>\n",
    "    if isOutStat:\n",
    "        return B\n",
    "    H_C = np.kron(z,I(3)) + np.kron(np.kron(I(1),z),I(2)) + np.kron(np.kron(I(2),z),I(1)) +  \\\n",
    "          np.kron(I(3),z) + np.kron(np.kron(z,z),I(2)) + np.kron(I(2),np.kron(z,z))\n",
    "    E = np.conjugate(np.array(B)).T.dot(H_C).dot(np.array(B))[0][0].real # 计算期望\n",
    "    return (E,gamma,beta)\n",
    "\n",
    "t = np.concatenate((np.array([1]) , np.zeros((15)))).reshape(-1,1)\n",
    "beta_lst = np.linspace(0,2*np.pi,100)\n",
    "gamma_lst = np.linspace(0,2*np.pi,100) \n",
    "#*********** 并行版本 ******************\n",
    "table = Parallel(n_jobs=-1)(delayed(QaoaGetPara)(beta,gamma,t) for beta,gamma in itertools.product(beta_lst,gamma_lst)) #并行版本\n",
    "table = pd.DataFrame(table,columns = [\"E\",\"gamma\",\"beta\"])\n",
    "row_idx = table[\"E\"].idxmax()\n",
    "row = table.loc[row_idx,[\"gamma\", \"beta\"]] # E_max对应列\n",
    "pureState = QaoaGetPara(row[\"gamma\"],row[\"beta\"],t,True) # 返回该最优量子线路输出的纯态\n",
    "State = getBaseProb(pureState) # 返回每个基态的概率"
   ]
  },
  {
   "cell_type": "code",
   "execution_count": 11,
   "metadata": {},
   "outputs": [
    {
     "data": {
      "text/plain": [
       "array([0.48192761+0.j, 0.01838446+0.j, 0.01838446+0.j, 0.17551353+0.j,\n",
       "       0.01838446+0.j, 0.00070133+0.j, 0.00070133+0.j, 0.00669545+0.j,\n",
       "       0.01838446+0.j, 0.00070133+0.j, 0.00070133+0.j, 0.00669545+0.j,\n",
       "       0.17551353+0.j, 0.00669545+0.j, 0.00669545+0.j, 0.06392039+0.j])"
      ]
     },
     "execution_count": 11,
     "metadata": {},
     "output_type": "execute_result"
    }
   ],
   "source": [
    "State"
   ]
  },
  {
   "cell_type": "code",
   "execution_count": null,
   "metadata": {},
   "outputs": [],
   "source": [
    "import seaborn as sns\n",
    "import matplotlib.pyplot as plt\n",
    "\n",
    "# 创建示例数据框\n",
    "\n",
    "# 将数据框转换为矩阵形式\n",
    "matrix = table.round(4).pivot(index='gamma', columns='beta', values='E')\n",
    "\n",
    "# 绘制热力图\n",
    "sns.heatmap(matrix, cmap='coolwarm', fmt='.0f')\n",
    "\n",
    "# 显示图形\n",
    "plt.show()"
   ]
  },
  {
   "cell_type": "code",
   "execution_count": null,
   "metadata": {},
   "outputs": [],
   "source": [
    "Xlabel = [\"|{}{}{}{}⟩\".format(x,y,z,r) for x,y,z,r in itertools.product([0,1],[0,1],[0,1],[0,1])]\n",
    "plt.figure(figsize=(10,6))\n",
    "plt.bar(Xlabel,State.real)\n",
    "\n",
    "plt.show()"
   ]
  },
  {
   "cell_type": "code",
   "execution_count": 2,
   "metadata": {},
   "outputs": [],
   "source": [
    "def QaoaGetPara(gamma,beta,t,isOutStat = False):# 这是p = 1 的 2th\n",
    "    z = np.array([[1,0],\n",
    "                    [0,-1]],dtype=np.complex128)\n",
    "    A = _Rx(0,4,beta)*_Rx(1,4,beta)*_Rx(2,4,beta)*_Rx(3,4,beta) \\\n",
    "        *_Rz(0,4,gamma)*_Rz(1,4,gamma)*_Rz(2,4,gamma)*_Rz(3,4,gamma) \\\n",
    "        *(_Rzz(0,1,4,-gamma))*_Rzz(2,3,4,gamma)*_Rzz(0,2,4,gamma) \\\n",
    "        *(_H() + _H() + _H() + _H()) #代表量子线路的矩阵\n",
    "    B = A.dot(t) # |gamma,beta>\n",
    "    if isOutStat:\n",
    "        return B\n",
    "    H_C = np.kron(z,I(3)) + np.kron(np.kron(I(1),z),I(2)) + np.kron(np.kron(I(2),z),I(1)) +  \\\n",
    "          np.kron(I(3),z) - np.kron(np.kron(z,z),I(2)) + np.kron(I(2),np.kron(z,z)) + \\\n",
    "          np.kron(np.kron(np.kron(z,I(1)),z),I(1))\n",
    "    E = np.conjugate(np.array(B)).T.dot(H_C).dot(np.array(B))[0][0].real # 计算期望\n",
    "    return (E,gamma,beta)\n",
    "\n",
    "t = np.concatenate((np.array([1]) , np.zeros((15)))).reshape(-1,1)\n",
    "N = 30\n",
    "beta_lst = np.linspace(0,np.pi,int(N/2))\n",
    "gamma_lst = np.linspace(0,2*np.pi,N) \n",
    "#*********** 并行版本 ******************\n",
    "table = Parallel(n_jobs=-1)(delayed(QaoaGetPara)(beta,gamma,t) for beta,gamma in itertools.product(beta_lst,gamma_lst)) #并行版本\n",
    "table = pd.DataFrame(table,columns = [\"E\",\"gamma\",\"beta\"])\n",
    "row_idx = table[\"E\"].idxmax()\n",
    "row = table.loc[row_idx,[\"gamma\", \"beta\"]] # E_max对应列\n",
    "pureState = QaoaGetPara(row[\"gamma\"],row[\"beta\"],t,True) # 返回该最优量子线路输出的纯态\n",
    "State = getBaseProb(pureState) # 返回每个基态的概率"
   ]
  }
 ],
 "metadata": {
  "kernelspec": {
   "display_name": "mindquantum",
   "language": "python",
   "name": "python3"
  },
  "language_info": {
   "codemirror_mode": {
    "name": "ipython",
    "version": 3
   },
   "file_extension": ".py",
   "mimetype": "text/x-python",
   "name": "python",
   "nbconvert_exporter": "python",
   "pygments_lexer": "ipython3",
   "version": "3.10.9"
  },
  "orig_nbformat": 4
 },
 "nbformat": 4,
 "nbformat_minor": 2
}
