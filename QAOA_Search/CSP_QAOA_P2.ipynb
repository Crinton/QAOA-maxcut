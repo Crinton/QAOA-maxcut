{
 "cells": [
  {
   "cell_type": "code",
   "execution_count": 1,
   "metadata": {},
   "outputs": [],
   "source": [
    "from scipy.linalg import expm\n",
    "import numpy as np                                          # 导入numpy库并简写为np\n",
    "import pandas as pd\n",
    "import itertools\n",
    "from joblib import Parallel, delayed\n",
    "import seaborn as sns\n",
    "import matplotlib.pyplot as plt\n",
    "from QAOA import _Rx,_Rz,_Rzz,_Rzzz,_Rzzzz,I,_H,getBaseProb\n",
    "def I(n): #返回可占用n个比特位的I矩阵\n",
    "    return np.eye(2**n)"
   ]
  },
  {
   "cell_type": "code",
   "execution_count": 154,
   "metadata": {},
   "outputs": [
    {
     "name": "stdout",
     "output_type": "stream",
     "text": [
      "[0.03644813+4.74243587e-20j 0.14837749+6.30083386e-18j\n",
      " 0.06241526-1.88814546e-19j 0.25408763-7.93667797e-19j\n",
      " 0.02859354-7.20624155e-19j 0.11640203+6.19358847e-19j\n",
      " 0.00262641+8.82115291e-20j 0.01069189-3.60107000e-20j\n",
      " 0.02859354+5.60747544e-19j 0.11640203-3.55016826e-19j\n",
      " 0.00262641-4.67867369e-22j 0.01069189+9.40259316e-20j\n",
      " 0.00496621-1.64046164e-19j 0.02021703-3.60043816e-20j\n",
      " 0.03093333-3.35252897e-19j 0.12592718-4.25178422e-19j]\n"
     ]
    }
   ],
   "source": [
    "#---------------------- p=1 8th\n",
    "def QaoaGetPara(gamma,beta,t,isOutStat = False):\n",
    "    z = np.array([[1,0],\n",
    "                    [0,-1]],dtype=np.complex128)\n",
    "    A = _Rx(0,4,beta)*_Rx(1,4,beta)*_Rx(2,4,beta)*_Rx(3,4,beta) \\\n",
    "        *_Rz(0,4,gamma)*_Rz(1,4,gamma)*_Rz(3,4,-gamma) \\\n",
    "        *_Rzzz(0,1,2,4,-gamma)*_Rzzzz(gamma) \\\n",
    "        *(_H() + _H() + _H() + _H()) #代表量子线路的矩阵\n",
    "    B = A.dot(t) # |gamma,beta>\n",
    "    if isOutStat:\n",
    "        return B\n",
    "    H_C = 0.5* (5*I(4)+np.kron(z,I(3)) + np.kron(np.kron(I(1),z),I(2))   \\\n",
    "            - np.kron(I(3),z) -np.kron(np.kron(np.kron(z,z),z),I(1)) \\\n",
    "            + np.kron(np.kron(np.kron(z,z),z),z))\n",
    "    E = np.conjugate(np.array(B)).T.dot(H_C).dot(np.array(B))[0][0].real # 计算期望\n",
    "    return (E,gamma,beta)\n",
    "\n",
    "t = np.concatenate((np.array([1]) , np.zeros((15)))).reshape(-1,1)\n",
    "N = 100\n",
    "beta_lst = np.linspace(0,2*np.pi,N)\n",
    "gamma_lst = np.linspace(0,2*np.pi,N) \n",
    "#*********** 并行版本 ******************\n",
    "table = Parallel(n_jobs=-1)(delayed(QaoaGetPara)(beta,gamma,t) for beta,gamma in itertools.product(beta_lst,gamma_lst)) #并行版本\n",
    "table = pd.DataFrame(table,columns = [\"E\",\"gamma\",\"beta\"])\n",
    "row_idx = table[\"E\"].idxmax()\n",
    "row = table.loc[row_idx,[\"gamma\", \"beta\"]] # E_max对应列\n",
    "pureState = QaoaGetPara(row[\"gamma\"],row[\"beta\"],t,True) # 返回该最优量子线路输出的纯态\n",
    "State = getBaseProb(pureState) # 返回每个基态的概率\n",
    "print(State)"
   ]
  },
  {
   "cell_type": "code",
   "execution_count": 207,
   "metadata": {},
   "outputs": [],
   "source": [
    "# ------------------p = 2 template 8th-----------------------------\n",
    "def Qaoa2Stat(gamma_1,beta_1,gamma_2,beta_2,t):\n",
    "    z = np.array([[1,0],\n",
    "                    [0,-1]],dtype=np.complex128)\n",
    "    A = _Rx(0,4,beta_2)*_Rx(1,4,beta_2)*_Rx(2,4,beta_2)*_Rx(3,4,beta_2) \\\n",
    "        *_Rz(0,4,gamma_2)*_Rz(1,4,gamma_2)*_Rz(3,4,-gamma_2) \\\n",
    "        *_Rzzz(0,1,2,4,-gamma_2)*_Rzzzz(gamma_2) \\\n",
    "        *_Rx(0,4,beta_1)*_Rx(1,4,beta_1)*_Rx(2,4,beta_1)*_Rx(3,4,beta_1) \\\n",
    "        *_Rz(0,4,gamma_1)*_Rz(1,4,gamma_1)*_Rz(3,4,-gamma_1) \\\n",
    "        *_Rzzz(0,1,2,4,-gamma_1)*_Rzzzz(gamma_1) \\\n",
    "        *(_H() + _H() + _H() + _H()) #代表量子线路的矩阵\n",
    "    B = A.dot(t) # |gamma,beta>\n",
    "    return B\n",
    "def Qaoa2E(gamma_1,beta_1,gamma_2,beta_2,t,H_C):\n",
    "\n",
    "    pureState = Qaoa2Stat(gamma_1,beta_1,gamma_2,beta_2,t)\n",
    "    E = np.conjugate(np.array(pureState)).T.dot(H_C).dot(np.array(pureState ))[0][0].real\n",
    "    if E > 4.2:\n",
    "        print(gamma_1,beta_1,gamma_2,beta_2,E)\n",
    "    return E\n",
    "z = np.array([[1,0],\n",
    "                [0,-1]],dtype=np.complex128)\n",
    "H_C = 0.5* (5*I(4)+np.kron(z,I(3)) + np.kron(np.kron(I(1),z),I(2))   \\\n",
    "        - np.kron(I(3),z) -np.kron(np.kron(np.kron(z,z),z),I(1)) \\\n",
    "        + np.kron(np.kron(np.kron(z,z),z),z))\n",
    "\n",
    "N = 40 #采样数\n",
    "t = np.concatenate((np.array([1]) , np.zeros((15)))).reshape(-1,1) #创建初态\n",
    "beta_1Lst = np.linspace(0,np.pi,int(N/2)) #生成遍历参数列表\n",
    "gamma_1Lst = np.linspace(0,2*np.pi,N) \n",
    "beta_2Lst = np.linspace(0,np.pi,int(N/2))\n",
    "gamma_2Lst = np.linspace(0,2*np.pi,N) \n",
    "\n",
    "#*********** 并行版本 ******************\n",
    "E_lst = Parallel(n_jobs=-1)(delayed(Qaoa2E)(gamma_1,beta_1,gamma_2,beta_2,t,H_C) \n",
    "                for gamma_1,beta_1,gamma_2,beta_2 in itertools.product(gamma_1Lst,beta_1Lst,gamma_2Lst,beta_2Lst)) \n",
    "df = pd.DataFrame(list(itertools.product(gamma_1Lst,beta_1Lst,gamma_2Lst,beta_2Lst)), columns=[\"gamma_1\",\"beta_1\",\"gamma_2\",\"beta_2\"]) #得到参数的数据框\n",
    "df.insert(0,column=\"E\",value = E_lst) #将E_lst插入数据框"
   ]
  },
  {
   "cell_type": "code",
   "execution_count": 209,
   "metadata": {},
   "outputs": [
    {
     "data": {
      "image/png": "[encoded data removed]",
      "text/plain": [
       "<Figure size 1000x600 with 1 Axes>"
      ]
     },
     "metadata": {},
     "output_type": "display_data"
    }
   ],
   "source": [
    "row = df.loc[df[\"E\"].idxmax(),:] # E_max对应列\n",
    "pureState = Qaoa2Stat(row[\"gamma_1\"],row[\"beta_1\"],row[\"gamma_2\"],row[\"beta_2\"],t) # 返回该最优量子线路输出的纯态\n",
    "#print(\"pureState: \\n\", pureState)\n",
    "State = getBaseProb(pureState) # 返回每个基态的概率\n",
    "#print(\"State_prob: \\n\", State)\n",
    "Xlabel = [\"|{}{}{}{}⟩\".format(x,y,z,r) for x,y,z,r in itertools.product([0,1],[0,1],[0,1],[0,1])]\n",
    "plt.figure(figsize=(10,6))\n",
    "plt.bar(Xlabel,State.real)\n",
    "plt.show()"
   ]
  },
  {
   "cell_type": "code",
   "execution_count": null,
   "metadata": {},
   "outputs": [],
   "source": [
    "def isError_df(df):\n",
    "  E_adaLst = []\n",
    "  for i,row in df.iterrows():\n",
    "      E = Qaoa2E(row[\"gamma_1\"],row[\"beta_1\"],row[\"gamma_2\"],row[\"beta_2\"],t,H_C)\n",
    "      #if row[\"E\"] != E:\n",
    "    #      print(\"idx = \",i, \"is Error\")\n",
    "      E_adaLst.append(E)\n",
    "  df.insert(1,\"E_ada\",E_adaLst)\n",
    "  return df[df[\"E\"] != df[\"E_ada\"]]"
   ]
  }
 ],
 "metadata": {
  "kernelspec": {
   "display_name": "mindquantum",
   "language": "python",
   "name": "python3"
  },
  "language_info": {
   "codemirror_mode": {
    "name": "ipython",
    "version": 3
   },
   "file_extension": ".py",
   "mimetype": "text/x-python",
   "name": "python",
   "nbconvert_exporter": "python",
   "pygments_lexer": "ipython3",
   "version": "3.9.16"
  },
  "orig_nbformat": 4
 },
 "nbformat": 4,
 "nbformat_minor": 2
}
