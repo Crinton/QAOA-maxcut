{
 "cells": [
  {
   "cell_type": "code",
   "execution_count": 1,
   "metadata": {},
   "outputs": [],
   "source": [
    "import numpy as np\n",
    "from scipy.linalg import expm\n"
   ]
  },
  {
   "cell_type": "code",
   "execution_count": 4,
   "metadata": {},
   "outputs": [
    {
     "data": {
      "text/plain": [
       "0"
      ]
     },
     "execution_count": 4,
     "metadata": {},
     "output_type": "execute_result"
    }
   ],
   "source": [
    "x = np.array([1,0,0,0])\n",
    "y = np.array([0,1,0,0])\n",
    "x.conj().dot(y)"
   ]
  },
  {
   "cell_type": "code",
   "execution_count": 11,
   "metadata": {},
   "outputs": [
    {
     "data": {
      "text/plain": [
       "array([[20.08553692,  0.        ,  0.        ,  0.        ],\n",
       "       [ 0.        ,  2.71828183,  0.        ,  0.        ],\n",
       "       [ 0.        ,  0.        ,  0.36787944,  0.        ],\n",
       "       [ 0.        ,  0.        ,  0.        ,  0.04978707]])"
      ]
     },
     "execution_count": 11,
     "metadata": {},
     "output_type": "execute_result"
    }
   ],
   "source": [
    "z = np.array([[1,0],\n",
    "              [0,-1]])\n",
    "I = np.eye(2)\n",
    "expm(np.kron(z*2,I) + np.kron(I,z))"
   ]
  },
  {
   "cell_type": "code",
   "execution_count": 10,
   "metadata": {},
   "outputs": [
    {
     "data": {
      "text/plain": [
       "array([[20.08553692,  0.        ,  0.        ,  0.        ],\n",
       "       [ 0.        ,  2.71828183,  0.        ,  0.        ],\n",
       "       [ 0.        ,  0.        ,  0.36787944,  0.        ],\n",
       "       [ 0.        ,  0.        ,  0.        ,  0.04978707]])"
      ]
     },
     "execution_count": 10,
     "metadata": {},
     "output_type": "execute_result"
    }
   ],
   "source": [
    "np.kron(expm(z*2),expm(z))"
   ]
  },
  {
   "cell_type": "code",
   "execution_count": 22,
   "metadata": {},
   "outputs": [
    {
     "data": {
      "image/png": "[encoded data removed]",
      "text/plain": [
       "<Figure size 789.163x367.889 with 1 Axes>"
      ]
     },
     "execution_count": 22,
     "metadata": {},
     "output_type": "execute_result"
    }
   ],
   "source": [
    "from qiskit import QuantumCircuit, transpile, assemble ,Aer\n",
    "from qiskit.visualization import array_to_latex\n",
    "\n",
    "num_qubits = 4\n",
    "beta_1 = 1\n",
    "gamma_1 = 2\n",
    "\n",
    "circuit = QuantumCircuit(num_qubits)\n",
    "\n",
    "for i in range(num_qubits):\n",
    "    circuit.h(i)\n",
    "\n",
    "for i in range(num_qubits):\n",
    "    circuit.rx(beta_1, i)\n",
    "\n",
    "for i in range(num_qubits):\n",
    "    circuit.rz(gamma_1, i)\n",
    "\n",
    "circuit.rzz(-gamma_1, 0, 1)\n",
    "circuit.rzz(gamma_1, 2, 3)\n",
    "circuit.rzz(gamma_1, 0, 2)\n",
    "\n",
    "circuit.barrier()\n",
    "\n",
    "# Display the circuit\n",
    "#array_to_latex(circuit)\n",
    "\n",
    "# You can also use circuit.draw() to display the circuit as a text diagram\n",
    "circuit.draw()"
   ]
  },
  {
   "cell_type": "code",
   "execution_count": 95,
   "metadata": {},
   "outputs": [
    {
     "data": {
      "text/latex": [
       "$$\n",
       "\n",
       "\\begin{bmatrix}\n",
       "0.1884755636 - 0.1642466497 i & 0.2400425717 + 0.0698538745 i & 0.2400425717 + 0.0698538745 i & 0.0709155464 + 0.2397310687 i & \\cdots & -0.1634109052 + 0.1892006238 i & -0.1634109052 + 0.1892006238 i & -0.2474981242 - 0.035280002 i  \\\\\n",
       " -0.2474981242 - 0.035280002 i & 0.1040367091 + 0.2273243567 i & -0.1040367091 - 0.2273243567 i & -0.1350755765 + 0.2103677462 i & \\cdots & - \\frac{1}{4} & \\frac{1}{4} & -0.1350755765 - 0.2103677462 i  \\\\\n",
       " 0.1350755765 - 0.2103677462 i & \\frac{1}{4} & - \\frac{1}{4} & -0.1350755765 - 0.2103677462 i & \\cdots & -0.1040367091 + 0.2273243567 i & 0.1040367091 - 0.2273243567 i & 0.2474981242 - 0.035280002 i  \\\\\n",
       " 0.1350755765 - 0.2103677462 i & - \\frac{1}{4} & - \\frac{1}{4} & 0.1350755765 + 0.2103677462 i & \\cdots & 0.1040367091 - 0.2273243567 i & 0.1040367091 - 0.2273243567 i & -0.2474981242 + 0.035280002 i  \\\\\n",
       " \\vdots & \\vdots & \\vdots & \\vdots & \\ddots & \\vdots & \\vdots & \\vdots \\\\\n",
       " -0.2474981242 + 0.035280002 i & 0.1634109052 + 0.1892006238 i & -0.1634109052 - 0.1892006238 i & -0.0709155464 + 0.2397310687 i & \\cdots & -0.2400425717 + 0.0698538745 i & 0.2400425717 - 0.0698538745 i & -0.1884755636 - 0.1642466497 i  \\\\\n",
       " 0.1350755765 + 0.2103677462 i & -0.1040367091 + 0.2273243567 i & 0.1040367091 - 0.2273243567 i & 0.2474981242 - 0.035280002 i & \\cdots & -0.1634109052 - 0.1892006238 i & 0.1634109052 + 0.1892006238 i & -0.0709155464 + 0.2397310687 i  \\\\\n",
       " 0.1350755765 + 0.2103677462 i & 0.1040367091 - 0.2273243567 i & 0.1040367091 - 0.2273243567 i & -0.2474981242 + 0.035280002 i & \\cdots & 0.1634109052 + 0.1892006238 i & 0.1634109052 + 0.1892006238 i & 0.0709155464 - 0.2397310687 i  \\\\\n",
       " \\end{bmatrix}\n",
       "$$"
      ],
      "text/plain": [
       "<IPython.core.display.Latex object>"
      ]
     },
     "execution_count": 95,
     "metadata": {},
     "output_type": "execute_result"
    }
   ],
   "source": [
    "from qiskit import Aer, assemble, transpile, execute\n",
    "from qiskit.visualization import array_to_latex\n",
    "import numpy as np\n",
    "num_qubits = 4\n",
    "beta_1 = 1\n",
    "gamma_1 = 2\n",
    "\n",
    "circuit = QuantumCircuit(num_qubits)\n",
    "\n",
    "for i in range(num_qubits):\n",
    "    circuit.h(i)\n",
    "\n",
    "for i in range(num_qubits):\n",
    "    circuit.rx(beta_1, i)\n",
    "\n",
    "for i in range(num_qubits):\n",
    "    circuit.rz(gamma_1, i)\n",
    "\n",
    "circuit.rzz(-gamma_1, 0, 1)\n",
    "circuit.rzz(gamma_1, 2, 3)\n",
    "circuit.rzz(gamma_1, 0, 2)\n",
    "circuit = circuit.reverse_bits()\n",
    "\n",
    "\n",
    "# Transpile the circuit to execute on the Aer simulator\n",
    "\n",
    "# Compile the circuit to obtain the equivalent matrix representation\n",
    "backend = Aer.get_backend('unitary_simulator')\n",
    "job = execute(circuit, backend)\n",
    "result = job.result()\n",
    "# Obtain the equivalent matrix representation\n",
    "matrix = result.get_unitary()\n",
    "\n",
    "# Display the matrix representation\n",
    "array_to_latex(matrix)"
   ]
  },
  {
   "cell_type": "code",
   "execution_count": 96,
   "metadata": {},
   "outputs": [
    {
     "data": {
      "text/latex": [
       "$$\n",
       "\n",
       "\\begin{bmatrix}\n",
       "0.1884755636 - 0.1642466497 i & 0.2400425717 + 0.0698538745 i & 0.2400425717 + 0.0698538745 i & 0.0709155464 + 0.2397310687 i & \\cdots & -0.1634109052 + 0.1892006238 i & -0.1634109052 + 0.1892006238 i & -0.2474981242 - 0.035280002 i  \\\\\n",
       " -0.2474981242 - 0.035280002 i & 0.1040367091 + 0.2273243567 i & -0.1040367091 - 0.2273243567 i & -0.1350755765 + 0.2103677462 i & \\cdots & - \\frac{1}{4} & \\frac{1}{4} & -0.1350755765 - 0.2103677462 i  \\\\\n",
       " 0.1350755765 - 0.2103677462 i & \\frac{1}{4} & - \\frac{1}{4} & -0.1350755765 - 0.2103677462 i & \\cdots & -0.1040367091 + 0.2273243567 i & 0.1040367091 - 0.2273243567 i & 0.2474981242 - 0.035280002 i  \\\\\n",
       " 0.1350755765 - 0.2103677462 i & - \\frac{1}{4} & - \\frac{1}{4} & 0.1350755765 + 0.2103677462 i & \\cdots & 0.1040367091 - 0.2273243567 i & 0.1040367091 - 0.2273243567 i & -0.2474981242 + 0.035280002 i  \\\\\n",
       " \\vdots & \\vdots & \\vdots & \\vdots & \\ddots & \\vdots & \\vdots & \\vdots \\\\\n",
       " -0.2474981242 + 0.035280002 i & 0.1634109052 + 0.1892006238 i & -0.1634109052 - 0.1892006238 i & -0.0709155464 + 0.2397310687 i & \\cdots & -0.2400425717 + 0.0698538745 i & 0.2400425717 - 0.0698538745 i & -0.1884755636 - 0.1642466497 i  \\\\\n",
       " 0.1350755765 + 0.2103677462 i & -0.1040367091 + 0.2273243567 i & 0.1040367091 - 0.2273243567 i & 0.2474981242 - 0.035280002 i & \\cdots & -0.1634109052 - 0.1892006238 i & 0.1634109052 + 0.1892006238 i & -0.0709155464 + 0.2397310687 i  \\\\\n",
       " 0.1350755765 + 0.2103677462 i & 0.1040367091 - 0.2273243567 i & 0.1040367091 - 0.2273243567 i & -0.2474981242 + 0.035280002 i & \\cdots & 0.1634109052 + 0.1892006238 i & 0.1634109052 + 0.1892006238 i & 0.0709155464 - 0.2397310687 i  \\\\\n",
       " \\end{bmatrix}\n",
       "$$"
      ],
      "text/plain": [
       "<IPython.core.display.Latex object>"
      ]
     },
     "execution_count": 96,
     "metadata": {},
     "output_type": "execute_result"
    }
   ],
   "source": [
    "import numpy as np\n",
    "A = np.load(\"A.npy\")\n",
    "array_to_latex(A)\n"
   ]
  },
  {
   "cell_type": "code",
   "execution_count": 97,
   "metadata": {},
   "outputs": [
    {
     "data": {
      "text/plain": [
       "True"
      ]
     },
     "execution_count": 97,
     "metadata": {},
     "output_type": "execute_result"
    }
   ],
   "source": [
    "np.array_equal(np.around(A,5),np.around(matrix,5))"
   ]
  },
  {
   "cell_type": "code",
   "execution_count": 29,
   "metadata": {},
   "outputs": [
    {
     "data": {
      "text/plain": [
       "True"
      ]
     },
     "execution_count": 29,
     "metadata": {},
     "output_type": "execute_result"
    }
   ],
   "source": [
    "np.array_equal(np.around(A,5), np.around(matrix,5))"
   ]
  },
  {
   "cell_type": "code",
   "execution_count": null,
   "metadata": {},
   "outputs": [],
   "source": []
  },
  {
   "cell_type": "code",
   "execution_count": 82,
   "metadata": {},
   "outputs": [
    {
     "data": {
      "text/latex": [
       "$$\n",
       "\n",
       "\\begin{bmatrix}\n",
       "0.5403023059 - 0.8414709848 i & 0 & 0 & 0 & 0 & 0 & 0 & 0  \\\\\n",
       " 0 & 0.5403023059 - 0.8414709848 i & 0 & 0 & 0 & 0 & 0 & 0  \\\\\n",
       " 0 & 0 & 0.5403023059 + 0.8414709848 i & 0 & 0 & 0 & 0 & 0  \\\\\n",
       " 0 & 0 & 0 & 0.5403023059 + 0.8414709848 i & 0 & 0 & 0 & 0  \\\\\n",
       " 0 & 0 & 0 & 0 & 0.5403023059 + 0.8414709848 i & 0 & 0 & 0  \\\\\n",
       " 0 & 0 & 0 & 0 & 0 & 0.5403023059 + 0.8414709848 i & 0 & 0  \\\\\n",
       " 0 & 0 & 0 & 0 & 0 & 0 & 0.5403023059 - 0.8414709848 i & 0  \\\\\n",
       " 0 & 0 & 0 & 0 & 0 & 0 & 0 & 0.5403023059 - 0.8414709848 i  \\\\\n",
       " \\end{bmatrix}\n",
       "$$"
      ],
      "text/plain": [
       "<IPython.core.display.Latex object>"
      ]
     },
     "execution_count": 82,
     "metadata": {},
     "output_type": "execute_result"
    }
   ],
   "source": [
    "\n",
    "num_qubits = 3\n",
    "gamma_1 = 2\n",
    "\n",
    "circuit = QuantumCircuit(num_qubits)\n",
    "\n",
    "\n",
    "#circuit.rzz(-gamma_1, 0, 1)\n",
    "#circuit.rzz(gamma_1, 2, 3)\n",
    "circuit.rzz(gamma_1, 0, 1)\n",
    "\n",
    "# Transpile the circuit to execute on the Aer simulator\n",
    "circuit = circuit.reverse_bits()\n",
    "\n",
    "# Compile the circuit to obtain the equivalent matrix representation\n",
    "backend = Aer.get_backend('unitary_simulator')\n",
    "job = execute(circuit, backend)\n",
    "result = job.result()\n",
    "# Obtain the equivalent matrix representation\n",
    "matrix = result.get_unitary()\n",
    "\n",
    "# Display the matrix representation\n",
    "array_to_latex(matrix)"
   ]
  },
  {
   "cell_type": "code",
   "execution_count": 79,
   "metadata": {},
   "outputs": [
    {
     "data": {
      "text/latex": [
       "$$\n",
       "\n",
       "\\begin{bmatrix}\n",
       "0.5403023059 - 0.8414709848 i & 0 & 0 & 0 & 0 & 0 & 0 & 0  \\\\\n",
       " 0 & 0.5403023059 - 0.8414709848 i & 0 & 0 & 0 & 0 & 0 & 0  \\\\\n",
       " 0 & 0 & 0.5403023059 + 0.8414709848 i & 0 & 0 & 0 & 0 & 0  \\\\\n",
       " 0 & 0 & 0 & 0.5403023059 + 0.8414709848 i & 0 & 0 & 0 & 0  \\\\\n",
       " 0 & 0 & 0 & 0 & 0.5403023059 + 0.8414709848 i & 0 & 0 & 0  \\\\\n",
       " 0 & 0 & 0 & 0 & 0 & 0.5403023059 + 0.8414709848 i & 0 & 0  \\\\\n",
       " 0 & 0 & 0 & 0 & 0 & 0 & 0.5403023059 - 0.8414709848 i & 0  \\\\\n",
       " 0 & 0 & 0 & 0 & 0 & 0 & 0 & 0.5403023059 - 0.8414709848 i  \\\\\n",
       " \\end{bmatrix}\n",
       "$$"
      ],
      "text/plain": [
       "<IPython.core.display.Latex object>"
      ]
     },
     "execution_count": 79,
     "metadata": {},
     "output_type": "execute_result"
    }
   ],
   "source": [
    "from scipy.linalg import expm\n",
    "\n",
    "z = np.array([[1,0], [0,-1]])\n",
    "rzz = expm(-1j * gamma_1/2 * np.kron(z,z))\n",
    "array_to_latex(np.kron(rzz,np.eye(2)))"
   ]
  },
  {
   "cell_type": "code",
   "execution_count": 50,
   "metadata": {},
   "outputs": [],
   "source": [
    "from QAOA import _Rx,_Rz,_Rzz,_Rzzz,_Rzzzz,I,_H,getBaseProb\n",
    "class PauliOperator(np.ndarray):\n",
    "    \"\"\"\n",
    "    只实现了重写\"+\"为kron tensor, 懒得每次np.kron\n",
    "    \"\"\"\n",
    "    def __new__(cls, input_array):\n",
    "        obj = np.asarray(input_array).view(cls)\n",
    "        return obj\n",
    "\n",
    "    def __add__(self, other):\n",
    "        return np.kron(self, other)\n",
    "    \n",
    "    def __mul__(self, other):\n",
    "        return np.dot(self, other)"
   ]
  },
  {
   "cell_type": "code",
   "execution_count": 65,
   "metadata": {},
   "outputs": [
    {
     "data": {
      "text/latex": [
       "$$\n",
       "\n",
       "\\begin{bmatrix}\n",
       "0.5403023059 - 0.8414709848 i & 0 & 0 & 0 & 0 & 0 & 0 & 0  \\\\\n",
       " 0 & 0.5403023059 - 0.8414709848 i & 0 & 0 & 0 & 0 & 0 & 0  \\\\\n",
       " 0 & 0 & 0.5403023059 + 0.8414709848 i & 0 & 0 & 0 & 0 & 0  \\\\\n",
       " 0 & 0 & 0 & 0.5403023059 + 0.8414709848 i & 0 & 0 & 0 & 0  \\\\\n",
       " 0 & 0 & 0 & 0 & 0.5403023059 + 0.8414709848 i & 0 & 0 & 0  \\\\\n",
       " 0 & 0 & 0 & 0 & 0 & 0.5403023059 + 0.8414709848 i & 0 & 0  \\\\\n",
       " 0 & 0 & 0 & 0 & 0 & 0 & 0.5403023059 - 0.8414709848 i & 0  \\\\\n",
       " 0 & 0 & 0 & 0 & 0 & 0 & 0 & 0.5403023059 - 0.8414709848 i  \\\\\n",
       " \\end{bmatrix}\n",
       "$$"
      ],
      "text/plain": [
       "<IPython.core.display.Latex object>"
      ]
     },
     "execution_count": 65,
     "metadata": {},
     "output_type": "execute_result"
    }
   ],
   "source": [
    "\n",
    "def _Rzz(ctro_b:int, obj_b:int, ndim:int, theta:float) -> PauliOperator:\n",
    "    z = PauliOperator(np.array([[1,0],\n",
    "            [0,-1]],dtype=np.complex128))\n",
    "    if ctro_b == 0:\n",
    "        mat_1 = PauliOperator(1)\n",
    "    else:\n",
    "        mat_1 = PauliOperator(np.eye(2**ctro_b,dtype=np.complex128))\n",
    "\n",
    "    mat_2 = z +  PauliOperator(np.eye(2**(obj_b - ctro_b-1),dtype=np.complex128)) + z\n",
    "    mat_3 = PauliOperator(np.eye(2**(ndim-obj_b-1),dtype=np.complex128))\n",
    "    mat = mat_1 + mat_2 + mat_3\n",
    "    return PauliOperator(expm(-1j*theta/2 * mat))\n",
    "array_to_latex(_Rzz(0,1,3,gamma_1))"
   ]
  },
  {
   "cell_type": "code",
   "execution_count": 46,
   "metadata": {},
   "outputs": [
    {
     "data": {
      "text/plain": [
       "array([[0.54030231-0.84147098j, 0.        +0.j        ,\n",
       "        0.        +0.j        , 0.        +0.j        ,\n",
       "        0.        +0.j        , 0.        +0.j        ,\n",
       "        0.        +0.j        , 0.        +0.j        ],\n",
       "       [0.        +0.j        , 0.54030231+0.84147098j,\n",
       "        0.        +0.j        , 0.        +0.j        ,\n",
       "        0.        +0.j        , 0.        +0.j        ,\n",
       "        0.        +0.j        , 0.        +0.j        ],\n",
       "       [0.        +0.j        , 0.        +0.j        ,\n",
       "        0.54030231+0.84147098j, 0.        +0.j        ,\n",
       "        0.        +0.j        , 0.        +0.j        ,\n",
       "        0.        +0.j        , 0.        +0.j        ],\n",
       "       [0.        +0.j        , 0.        +0.j        ,\n",
       "        0.        +0.j        , 0.54030231-0.84147098j,\n",
       "        0.        +0.j        , 0.        +0.j        ,\n",
       "        0.        +0.j        , 0.        +0.j        ],\n",
       "       [0.        +0.j        , 0.        +0.j        ,\n",
       "        0.        +0.j        , 0.        +0.j        ,\n",
       "        0.54030231-0.84147098j, 0.        +0.j        ,\n",
       "        0.        +0.j        , 0.        +0.j        ],\n",
       "       [0.        +0.j        , 0.        +0.j        ,\n",
       "        0.        +0.j        , 0.        +0.j        ,\n",
       "        0.        +0.j        , 0.54030231+0.84147098j,\n",
       "        0.        +0.j        , 0.        +0.j        ],\n",
       "       [0.        +0.j        , 0.        +0.j        ,\n",
       "        0.        +0.j        , 0.        +0.j        ,\n",
       "        0.        +0.j        , 0.        +0.j        ,\n",
       "        0.54030231+0.84147098j, 0.        +0.j        ],\n",
       "       [0.        +0.j        , 0.        +0.j        ,\n",
       "        0.        +0.j        , 0.        +0.j        ,\n",
       "        0.        +0.j        , 0.        +0.j        ,\n",
       "        0.        +0.j        , 0.54030231-0.84147098j]])"
      ]
     },
     "execution_count": 46,
     "metadata": {},
     "output_type": "execute_result"
    }
   ],
   "source": [
    "np.kron(np.eye(2), rzz)"
   ]
  },
  {
   "cell_type": "code",
   "execution_count": null,
   "metadata": {},
   "outputs": [],
   "source": []
  }
 ],
 "metadata": {
  "kernelspec": {
   "display_name": "mindquantum",
   "language": "python",
   "name": "python3"
  },
  "language_info": {
   "codemirror_mode": {
    "name": "ipython",
    "version": 3
   },
   "file_extension": ".py",
   "mimetype": "text/x-python",
   "name": "python",
   "nbconvert_exporter": "python",
   "pygments_lexer": "ipython3",
   "version": "3.10.9"
  },
  "orig_nbformat": 4
 },
 "nbformat": 4,
 "nbformat_minor": 2
}
