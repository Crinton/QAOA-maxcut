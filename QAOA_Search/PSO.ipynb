{
 "cells": [
  {
   "cell_type": "code",
   "execution_count": 50,
   "metadata": {},
   "outputs": [],
   "source": [
    "import numpy as np \n",
    "import pandas as pd\n",
    "import itertools\n",
    "from joblib import Parallel, delayed\n",
    "import argparse\n",
    "from tqdm import tqdm\n",
    "from QAOA_CSP import CSP, _H, getBaseProb\n",
    "from QAOA import _Rx,_Rz,_Rzz,_Rzzz,_Rzzzz,I,_H,getBaseProb\n",
    "import matplotlib.pyplot as plt\n",
    "\n",
    "def I(n): #返回可占用n个比特位的I矩阵\n",
    "    return np.eye(2**n)\n",
    "z = np.array([[1,0],\n",
    "                [0,-1]],dtype=np.complex128)\n",
    "def create_new_dict(nested_dict, func) -> dict:\n",
    "    new_dict = {}\n",
    "    for key, value in nested_dict.items():\n",
    "        if isinstance(value, dict):\n",
    "            new_dict[key] = create_new_dict(value, func)\n",
    "        else:\n",
    "            new_key, new_value = func(key, value)\n",
    "            new_dict[new_key] = new_value\n",
    "    \n",
    "    return new_dict\n",
    "\n",
    "# 将二层的key转化为我要的形式的字符串\n",
    "def modify_key_value(key, value):\n",
    "    operLst = \",\".join(list(map(lambda x:str(eval(x[2]) - 1),key.split())))\n",
    "\n",
    "    return operLst, value\n",
    "def Qaoa3E(Problem:dict,HC,gammaLst:list,betaLst:list,p:int,s:np.ndarray) -> float:\n",
    "    model = CSP(Problem,HC)\n",
    "    model.updateQC(gammaLst,betaLst,p)\n",
    "    return model.getExpctation(s)\n",
    "\n",
    "# Problem转为经典表达式\n",
    "def paraCSP(Problem,z1,z2,z3,z4):\n",
    "    C = 0\n",
    "    Problem_beta = Problem[1]\n",
    "    Constant = Problem[2]\n",
    "    factor = Problem[3]\n",
    "    for _, Power in Problem_beta.items(): #每个次幂的\n",
    "        for key, coef in Power.items(): #某个次幂中 每个项\n",
    "            # 解析每个项的表达式，并乘value系数\n",
    "            item = 1\n",
    "            for oper in key.split(): \n",
    "                item  = item * eval(\"z{}\".format(oper[2]))\n",
    "            C  = C + item*coef \n",
    "    return factor*(C+Constant)\n",
    "def GridSearch_CSP(Problem):\n",
    "    sulotionsSet = itertools.product([-1,1],repeat=4)\n",
    "    obj_maxLst = [0]\n",
    "    para_max = []\n",
    "    for z1,z2,z3,z4 in sulotionsSet:\n",
    "        obj = paraCSP(Problem,z1,z2,z3,z4)\n",
    "        if obj > obj_maxLst[0]:\n",
    "            obj_maxLst = [obj]\n",
    "            para_max = [(z1,z2,z3,z4)]\n",
    "        elif obj == obj_maxLst[0]:\n",
    "            obj_maxLst.append(obj)\n",
    "            para_max.append((z1,z2,z3,z4))\n",
    "        else:\n",
    "            pass\n",
    "    return obj_maxLst,para_max\n",
    "\n",
    "\n",
    "Constant = 0\n",
    "factor = 1\n",
    "t = np.concatenate((np.array([1]) , np.zeros((15)))).reshape(-1,1) #创建初态\n",
    "s = (_H() + _H() + _H() + _H()).dot(t).to_array()\n",
    "def getParaQC(Problem,gamma:float, beta:float):\n",
    "    Problem_alpha = Problem[0]\n",
    "    Problem_beta = Problem[1]\n",
    "    QC = 1\n",
    "    for (qubit_str, _), (_,coef) in zip(Problem_alpha[\"Power_1\"].items(),Problem_beta[\"Power_1\"].items()):\n",
    "        if coef != 0:\n",
    "            QC = _Rz(eval(qubit_str),4,coef*gamma) * QC\n",
    "    for (qubit_str, _), (_,coef) in zip(Problem_alpha[\"Power_2\"].items(),Problem_beta[\"Power_2\"].items()):\n",
    "        if coef != 0:\n",
    "            qubit_idx = eval(qubit_str)\n",
    "            QC = _Rzz(qubit_idx[0],qubit_idx[1],4,coef*gamma) * QC\n",
    "    for (qubit_str, _), (_,coef) in zip(Problem_alpha[\"Power_3\"].items(),Problem_beta[\"Power_3\"].items()):\n",
    "        if coef != 0:\n",
    "            qubit_idx = eval(qubit_str)\n",
    "            QC = _Rzzz(qubit_idx[0],qubit_idx[1],qubit_idx[2],4,coef*gamma) * QC\n",
    "\n",
    "    if Problem_alpha[\"Power_4\"]['0,1,2,3'] != 0:\n",
    "        QC = _Rzzzz(Problem_alpha[\"Power_4\"]['0,1,2,3']*gamma) *  QC\n",
    "    QC = _Rx(0,4,beta)*_Rx(1,4,beta)*_Rx(2,4,beta)*_Rx(3,4,beta) * QC\n",
    "    return QC \n",
    "def QC_func(Problem, reversed = False): #输出一个func，对应Problem\n",
    "    def func(X):\n",
    "        #print(X)\n",
    "        if X.shape[0] == 4:\n",
    "            gamma_1,beta_1,gamma_2,beta_2 = X[0],X[1],X[2],X[3]\n",
    "        elif X.shape[0] ==2:\n",
    "            gamma_1,beta_1,gamma_2,beta_2 = X[0],X[1],0,0\n",
    "        else:\n",
    "            raise ValueError(\"X 输入不对\")\n",
    "        QC = getParaQC(Problem,gamma_2,beta_2) * getParaQC(Problem,gamma_1,beta_1)\n",
    "        global s,HC\n",
    "        rb = QC.dot(s)\n",
    "        E = (np.conjugate(rb).T.dot(HC).dot(rb))[0][0].real\n",
    "        if reversed:\n",
    "            #print(-E)\n",
    "            return -E\n",
    "        else:\n",
    "            return E\n",
    "    return func\n",
    "\n",
    "def estimate_gradient(func, X:np.ndarray, epsilon = 1e-8) ->np.ndarray: #Qaoa3E专用\n",
    "    x_epsilon = np.array([epsilon,0])\n",
    "    y_epsilon = np.array([0,epsilon])\n",
    "    E_det_G1 = func(X+x_epsilon)\n",
    "    E_det_G2 = func(X-x_epsilon)\n",
    "    gamma_gradient = (E_det_G1 - E_det_G2)/(2*epsilon)\n",
    "    E_det_B1 = func(X+y_epsilon)\n",
    "    E_det_B2 = func(X-x_epsilon)\n",
    "    beta_gradient = (E_det_B1 - E_det_B2)/(2*epsilon)\n",
    "    return np.array([gamma_gradient,beta_gradient])\n"
   ]
  },
  {
   "cell_type": "code",
   "execution_count": 149,
   "metadata": {},
   "outputs": [],
   "source": [
    "CtrlSeries = [1,1,0,-1,0,0,0,0,0,0,-1,0,0,0,1] #代表问题8\n",
    "Power_1 = {\"Z_1\":CtrlSeries[0], \"Z_2\":CtrlSeries[1], \"Z_3\":CtrlSeries[2],\"Z_4\":CtrlSeries[3]}\n",
    "Power_2 = {\"Z_1 Z_2\":CtrlSeries[4], \"Z_3 Z_4\":CtrlSeries[5],\n",
    "        \"Z_1 Z_3\":CtrlSeries[6], \"Z_1 Z_4\":CtrlSeries[7], \"Z_2 Z_3\":CtrlSeries[8], \"Z_2 Z_4\":CtrlSeries[9]}\n",
    "Power_3 = {\"Z_1 Z_2 Z_3\":CtrlSeries[10], \"Z_1 Z_2 Z_4\":CtrlSeries[11], \"Z_1 Z_3 Z_4\": CtrlSeries[12] , \"Z_2 Z_3 Z_4\":CtrlSeries[13]}\n",
    "Power_4 = {\"Z_1 Z_2 Z_3 Z_4\":CtrlSeries[14]}\n",
    "Problem_beta = {\"Power_1\":Power_1,\n",
    "        \"Power_2\":Power_2,\n",
    "        \"Power_3\":Power_3,\n",
    "        \"Power_4\":Power_4}\n",
    "Problem_alpha = create_new_dict(Problem_beta , modify_key_value)\n",
    "Problem = (Problem_alpha,Problem_beta, Constant, factor)\n",
    "func = QC_func(Problem,True)\n",
    "model = CSP(Problem)\n",
    "HC = model.HC\n"
   ]
  },
  {
   "cell_type": "code",
   "execution_count": 150,
   "metadata": {},
   "outputs": [],
   "source": [
    "from scipy.optimize import dual_annealing"
   ]
  },
  {
   "cell_type": "code",
   "execution_count": 151,
   "metadata": {},
   "outputs": [],
   "source": [
    "func = QC_func(Problem,True)\n",
    "bounds = [[0,2*np.pi],\n",
    "          [0,np.pi],\n",
    "          [0,2*np.pi],\n",
    "          [0,np.pi]]\n",
    "lt_E = []\n",
    "X = np.array([4,2,1,2])\n",
    "def callback(x, f, context):\n",
    "    \n",
    "    #plt.scatter(x[0], -f, color='red', marker='o')  # 绘制当前最优解\n",
    "    lt_E.append(-f)\n",
    "    \n",
    "result = dual_annealing(func,bounds,callback=callback,restart_temp_ratio=1e-3,visit = 1.5,x0 = X,maxiter = 1000)"
   ]
  },
  {
   "cell_type": "code",
   "execution_count": 153,
   "metadata": {},
   "outputs": [
    {
     "data": {
      "text/plain": [
       "-3.1715105830978856"
      ]
     },
     "execution_count": 153,
     "metadata": {},
     "output_type": "execute_result"
    }
   ],
   "source": [
    "result.fun"
   ]
  },
  {
   "cell_type": "code",
   "execution_count": 156,
   "metadata": {},
   "outputs": [],
   "source": [
    "X = result.x"
   ]
  },
  {
   "cell_type": "code",
   "execution_count": null,
   "metadata": {},
   "outputs": [],
   "source": []
  },
  {
   "cell_type": "code",
   "execution_count": 70,
   "metadata": {},
   "outputs": [
    {
     "data": {
      "text/plain": [
       "1.7024312189957966"
      ]
     },
     "execution_count": 70,
     "metadata": {},
     "output_type": "execute_result"
    }
   ],
   "source": [
    "func(np.array([0.76,0.6]))"
   ]
  },
  {
   "cell_type": "code",
   "execution_count": null,
   "metadata": {},
   "outputs": [],
   "source": []
  }
 ],
 "metadata": {
  "kernelspec": {
   "display_name": "base",
   "language": "python",
   "name": "python3"
  },
  "language_info": {
   "codemirror_mode": {
    "name": "ipython",
    "version": 3
   },
   "file_extension": ".py",
   "mimetype": "text/x-python",
   "name": "python",
   "nbconvert_exporter": "python",
   "pygments_lexer": "ipython3",
   "version": "3.10.9"
  },
  "orig_nbformat": 4
 },
 "nbformat": 4,
 "nbformat_minor": 2
}
